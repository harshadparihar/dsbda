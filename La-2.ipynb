{
 "cells": [
  {
   "cell_type": "code",
   "execution_count": 2,
   "id": "83e9693b",
   "metadata": {},
   "outputs": [],
   "source": [
    "import pandas as pd\n",
    "import numpy as np\n",
    "df = pd.read_csv(\"academic_data.csv\")"
   ]
  },
  {
   "cell_type": "code",
   "execution_count": 3,
   "id": "97efdb20",
   "metadata": {},
   "outputs": [
    {
     "name": "stdout",
     "output_type": "stream",
     "text": [
      "  Firstname Lastname Gender  SPOS DSBDA     WT  DA\n",
      "0        LA      Roy      M  85.0    88   90.0  92\n",
      "1        SA    Dixit      F  90.0    90   94.0  95\n",
      "2        AB   Danial      M   NaN    na  100.0  80\n",
      "3        DA   Kapoor      M  95.0    86  500.0  82\n",
      "4        SA      Jha      F   NaN    84   98.0  84\n"
     ]
    }
   ],
   "source": [
    "print(df.head())"
   ]
  },
  {
   "cell_type": "code",
   "execution_count": 4,
   "id": "598e0173",
   "metadata": {},
   "outputs": [
    {
     "name": "stdout",
     "output_type": "stream",
     "text": [
      "  Firstname Lastname Gender  SPOS DSBDA     WT  DA\n",
      "0        LA      Roy      M  85.0    88   90.0  92\n",
      "1        SA    Dixit      F  90.0    90   94.0  95\n",
      "2        AB   Danial      M   NaN    na  100.0  80\n",
      "3        DA   Kapoor      M  95.0    86  500.0  82\n",
      "4        SA      Jha      F   NaN    84   98.0  84\n",
      "0    M\n",
      "1    F\n",
      "2    M\n",
      "3    M\n",
      "4    F\n",
      "5    F\n",
      "6    M\n",
      "7    F\n",
      "8    M\n",
      "9    M\n",
      "Name: Gender, dtype: object\n",
      "0    False\n",
      "1    False\n",
      "2    False\n",
      "3    False\n",
      "4    False\n",
      "5    False\n",
      "6    False\n",
      "7    False\n",
      "8    False\n",
      "9    False\n",
      "Name: Gender, dtype: bool\n",
      "0    True\n",
      "1    True\n",
      "2    True\n",
      "3    True\n",
      "4    True\n",
      "5    True\n",
      "6    True\n",
      "7    True\n",
      "8    True\n",
      "9    True\n",
      "Name: Gender, dtype: bool\n"
     ]
    }
   ],
   "source": [
    "print(df.head())\n",
    "missing_value_formats = [\"n.a.\",\"?\",\"NA\",\"n/a\", \"na\", \"--\"]\n",
    "df = pd.read_csv(\"academic_data.csv\", na_values = missing_value_formats)\n",
    "#print gender again\n",
    "print(df.Gender.head(10))\n",
    "\n",
    "# NaN values are marked True\n",
    "\n",
    "print(df.Gender.isnull().head(10))\n",
    "# NaN values are marked False\n",
    "print(df.Gender.notnull().head(10))"
   ]
  },
  {
   "cell_type": "code",
   "execution_count": 5,
   "id": "5b89b083",
   "metadata": {},
   "outputs": [
    {
     "name": "stdout",
     "output_type": "stream",
     "text": [
      "   Firstname Lastname Gender   SPOS  DSBDA     WT   DA\n",
      "0         LA      Roy      M   85.0   88.0   90.0   92\n",
      "1         SA    Dixit      F   90.0   90.0   94.0   95\n",
      "2         AB   Danial      M    NaN    NaN  100.0   80\n",
      "3         DA   Kapoor      M   95.0   86.0  500.0   82\n",
      "4         SA      Jha      F    NaN   84.0   98.0   84\n",
      "5         WS   Thakur      F   87.0    NaN   97.0   86\n",
      "6         DY   Kapoor      M   81.0   80.0   96.0   89\n",
      "7         JK   Khanna      F   40.0   88.0   95.0   87\n",
      "8         RT  Pardesi      M   10.0   96.0   94.0   88\n",
      "9         UV  Pardesi      M    9.0    NaN   93.0   96\n",
      "10        MN    Desai      F  200.0   87.0    NaN  N.A\n",
      "11        BC    Patel      F  300.0    NaN   88.0  300\n",
      "True\n"
     ]
    }
   ],
   "source": [
    "null_filter = df['Gender'].notnull()\n",
    "# prints only those rows where null_filter is True\n",
    "print(df[null_filter])\n",
    "\n",
    "print(df.isnull().values.any())"
   ]
  },
  {
   "cell_type": "code",
   "execution_count": 6,
   "id": "fd91c747",
   "metadata": {},
   "outputs": [
    {
     "name": "stdout",
     "output_type": "stream",
     "text": [
      "True\n"
     ]
    }
   ],
   "source": [
    "print(df.isnull().values.any())"
   ]
  },
  {
   "cell_type": "code",
   "execution_count": 7,
   "id": "745bdb9a",
   "metadata": {},
   "outputs": [],
   "source": [
    "df.dropna(axis=0,inplace=True)\n",
    "\n",
    "# drop all rows with atleast one NaN\n",
    "new_df = df.dropna(axis = 0, how ='any')\n",
    "\n",
    "# drop all rows with all NaN\n",
    "new_df = df.dropna(axis = 0, how ='all')\n",
    "\n",
    "# drop all columns with atleast one NaN\n",
    "new_df = df.dropna(axis = 1, how ='any')"
   ]
  },
  {
   "cell_type": "code",
   "execution_count": 8,
   "id": "0f4a71a7",
   "metadata": {},
   "outputs": [],
   "source": [
    "new_df = df.dropna(axis = 1, how ='all')"
   ]
  },
  {
   "cell_type": "code",
   "execution_count": 9,
   "id": "f93c1d14",
   "metadata": {},
   "outputs": [
    {
     "name": "stdout",
     "output_type": "stream",
     "text": [
      "0    85.0\n",
      "1    90.0\n",
      "3    95.0\n",
      "6    81.0\n",
      "7    40.0\n",
      "8    10.0\n",
      "Name: SPOS, dtype: float64\n"
     ]
    }
   ],
   "source": [
    "df['SPOS'].fillna(0, inplace=True)\n",
    "# To check changes call\n",
    "print(df['SPOS'].head(10))"
   ]
  },
  {
   "cell_type": "code",
   "execution_count": 10,
   "id": "e96f9b9b",
   "metadata": {},
   "outputs": [
    {
     "name": "stdout",
     "output_type": "stream",
     "text": [
      "0    88.0\n",
      "1    90.0\n",
      "3    86.0\n",
      "6    80.0\n",
      "7    88.0\n",
      "8    96.0\n",
      "Name: DSBDA, dtype: float64\n"
     ]
    }
   ],
   "source": [
    "df['DSBDA'].fillna(method='pad', inplace=True)\n",
    "print(df['DSBDA'].head(10))"
   ]
  },
  {
   "cell_type": "code",
   "execution_count": 11,
   "id": "bffd6722",
   "metadata": {},
   "outputs": [
    {
     "name": "stdout",
     "output_type": "stream",
     "text": [
      "0    85.0\n",
      "1    90.0\n",
      "3    95.0\n",
      "6    81.0\n",
      "7    40.0\n",
      "8    10.0\n",
      "Name: SPOS, dtype: float64\n"
     ]
    }
   ],
   "source": [
    "df['SPOS'].fillna(method='bfill', inplace=True)\n",
    "print(df['SPOS'].head(10))"
   ]
  },
  {
   "cell_type": "code",
   "execution_count": 12,
   "id": "cb84cfc3",
   "metadata": {},
   "outputs": [
    {
     "data": {
      "text/html": [
       "<div>\n",
       "<style scoped>\n",
       "    .dataframe tbody tr th:only-of-type {\n",
       "        vertical-align: middle;\n",
       "    }\n",
       "\n",
       "    .dataframe tbody tr th {\n",
       "        vertical-align: top;\n",
       "    }\n",
       "\n",
       "    .dataframe thead th {\n",
       "        text-align: right;\n",
       "    }\n",
       "</style>\n",
       "<table border=\"1\" class=\"dataframe\">\n",
       "  <thead>\n",
       "    <tr style=\"text-align: right;\">\n",
       "      <th></th>\n",
       "      <th>Firstname</th>\n",
       "      <th>Lastname</th>\n",
       "      <th>Gender</th>\n",
       "      <th>SPOS</th>\n",
       "      <th>DSBDA</th>\n",
       "      <th>WT</th>\n",
       "      <th>DA</th>\n",
       "    </tr>\n",
       "  </thead>\n",
       "  <tbody>\n",
       "    <tr>\n",
       "      <th>0</th>\n",
       "      <td>LA</td>\n",
       "      <td>Roy</td>\n",
       "      <td>M</td>\n",
       "      <td>85.0</td>\n",
       "      <td>88.0</td>\n",
       "      <td>90.0</td>\n",
       "      <td>92</td>\n",
       "    </tr>\n",
       "    <tr>\n",
       "      <th>1</th>\n",
       "      <td>SA</td>\n",
       "      <td>Dixit</td>\n",
       "      <td>F</td>\n",
       "      <td>90.0</td>\n",
       "      <td>90.0</td>\n",
       "      <td>94.0</td>\n",
       "      <td>95</td>\n",
       "    </tr>\n",
       "    <tr>\n",
       "      <th>3</th>\n",
       "      <td>DA</td>\n",
       "      <td>Kapoor</td>\n",
       "      <td>M</td>\n",
       "      <td>95.0</td>\n",
       "      <td>86.0</td>\n",
       "      <td>500.0</td>\n",
       "      <td>82</td>\n",
       "    </tr>\n",
       "    <tr>\n",
       "      <th>6</th>\n",
       "      <td>DY</td>\n",
       "      <td>Kapoor</td>\n",
       "      <td>M</td>\n",
       "      <td>81.0</td>\n",
       "      <td>80.0</td>\n",
       "      <td>96.0</td>\n",
       "      <td>89</td>\n",
       "    </tr>\n",
       "    <tr>\n",
       "      <th>7</th>\n",
       "      <td>JK</td>\n",
       "      <td>Khanna</td>\n",
       "      <td>F</td>\n",
       "      <td>40.0</td>\n",
       "      <td>88.0</td>\n",
       "      <td>95.0</td>\n",
       "      <td>87</td>\n",
       "    </tr>\n",
       "  </tbody>\n",
       "</table>\n",
       "</div>"
      ],
      "text/plain": [
       "  Firstname Lastname Gender  SPOS  DSBDA     WT  DA\n",
       "0        LA      Roy      M  85.0   88.0   90.0  92\n",
       "1        SA    Dixit      F  90.0   90.0   94.0  95\n",
       "3        DA   Kapoor      M  95.0   86.0  500.0  82\n",
       "6        DY   Kapoor      M  81.0   80.0   96.0  89\n",
       "7        JK   Khanna      F  40.0   88.0   95.0  87"
      ]
     },
     "execution_count": 12,
     "metadata": {},
     "output_type": "execute_result"
    }
   ],
   "source": [
    "import matplotlib.pyplot as plt\n",
    "df.head()"
   ]
  },
  {
   "cell_type": "code",
   "execution_count": 13,
   "id": "9748e117",
   "metadata": {},
   "outputs": [
    {
     "data": {
      "text/plain": [
       "{'whiskers': [<matplotlib.lines.Line2D at 0x7fd968902a90>,\n",
       "  <matplotlib.lines.Line2D at 0x7fd9687cb810>],\n",
       " 'caps': [<matplotlib.lines.Line2D at 0x7fd9687cc510>,\n",
       "  <matplotlib.lines.Line2D at 0x7fd9687cd290>],\n",
       " 'boxes': [<matplotlib.lines.Line2D at 0x7fd96888d0d0>],\n",
       " 'medians': [<matplotlib.lines.Line2D at 0x7fd9687cde90>],\n",
       " 'fliers': [<matplotlib.lines.Line2D at 0x7fd9687ce890>],\n",
       " 'means': []}"
      ]
     },
     "execution_count": 13,
     "metadata": {},
     "output_type": "execute_result"
    },
    {
     "data": {
      "image/png": "[encoded data removed]",
      "text/plain": [
       "<Figure size 640x480 with 1 Axes>"
      ]
     },
     "metadata": {},
     "output_type": "display_data"
    }
   ],
   "source": [
    "df.shape\n",
    "(6,7)\n",
    "plt.boxplot(x=df['SPOS'])"
   ]
  }
 ],
 "metadata": {
  "kernelspec": {
   "display_name": "Python 3 (ipykernel)",
   "language": "python",
   "name": "python3"
  },
  "language_info": {
   "codemirror_mode": {
    "name": "ipython",
    "version": 3
   },
   "file_extension": ".py",
   "mimetype": "text/x-python",
   "name": "python",
   "nbconvert_exporter": "python",
   "pygments_lexer": "ipython3",
   "version": "3.11.8"
  }
 },
 "nbformat": 4,
 "nbformat_minor": 5
}
